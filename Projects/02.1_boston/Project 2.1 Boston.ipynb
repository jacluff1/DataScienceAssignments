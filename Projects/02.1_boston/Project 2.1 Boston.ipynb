{
 "cells": [
  {
   "cell_type": "markdown",
   "metadata": {},
   "source": [
    "# Import Dependencies"
   ]
  },
  {
   "cell_type": "code",
   "execution_count": 1,
   "metadata": {},
   "outputs": [],
   "source": [
    "# import dependencies\n",
    "import numpy as np\n",
    "import pandas as pd\n",
    "import matplotlib.pyplot as plt\n",
    "import pdb\n",
    "%matplotlib inline"
   ]
  },
  {
   "cell_type": "markdown",
   "metadata": {},
   "source": [
    "# Functions"
   ]
  },
  {
   "cell_type": "code",
   "execution_count": 18,
   "metadata": {},
   "outputs": [],
   "source": [
    "# make a function to get R$^2$\n",
    "def r_squared(Y,Yhat):\n",
    "    return np.sum( (Y-Yhat)**2 ) / np.sum( (Y-Y.mean())**2 )\n",
    "\n",
    "# ordinary least squares\n",
    "def OLS(Y,Yhat):\n",
    "    return (Y-Yhat).T.dot(Y-Yhat)\n",
    "\n",
    "# make a function to solve closed form\n",
    "def solve_closed_form(PHI,Y,lambda2):\n",
    "    if lambda2 > 0:\n",
    "        return np.linalg.solve(PHI.T.dot(PHI) + lambda2*np.eye(P), PHI.T.dot(Y) )\n",
    "    else:\n",
    "        return np.linalg.solve(PHI.T.dot(PHI), PHI.T.dot(Y))\n",
    "    \n",
    "def solve_gradient_descent(PHI,Y,**kwargs):\n",
    "    \n",
    "    # kwargs\n",
    "    lambda1 = kwargs['lambda1'] if 'lambda1' in kwargs else 0\n",
    "    lambda2 = kwargs['lambda2'] if 'lambda2' in kwargs else 0\n",
    "    eta = kwargs['eta'] if 'eta' in kwargs else 1e-3\n",
    "    epochs = int(kwargs['epochs']) if 'epochs' in kwargs else int(1e3)\n",
    "    showPlot = kwargs['showPlot'] if 'showPlot' in kwargs else False\n",
    "\n",
    "    # make sure that the input values have appropriate shapes, no way to check the value for P\n",
    "    N = Y.shape[0]\n",
    "    P = PHI.shape[1]\n",
    "    assert PHI.shape[0] == N, \"PHI must have shape: N x (P+1)\"\n",
    "    \n",
    "    # start with random W\n",
    "    try:\n",
    "        K = Y.shape[1]\n",
    "        W = np.random.randn(P*K).reshape([P,K])\n",
    "    except:\n",
    "        W = np.random.randn(P)\n",
    "\n",
    "    # make empty list for OLS\n",
    "    J = np.zeros(epochs)\n",
    "\n",
    "    # try and solve for w\n",
    "    for i in np.arange(epochs):\n",
    "        Yhat = PHI.dot(W)\n",
    "        J[i] = ( OLS(Y,Yhat) + lambda1*np.sum( np.abs(W) ) + lambda2*np.sum(W**2) ) / (2*N)\n",
    "        W -= eta*( PHI.T.dot(Yhat-Y) + lambda1*np.sign(W) + lambda2*W ) / N\n",
    "#         pdb.set_trace()\n",
    "\n",
    "    return W\n",
    "\n",
    "\n",
    "def train_validate(PHI1,Y1,PHI2,Y2,**kwargs):\n",
    "    # kwargs\n",
    "    closed = kwargs['closed'] if 'closed' in kwargs else False\n",
    "    lambda1 = kwargs['lambda1'] if 'lambda1' in kwargs else 0\n",
    "    lambda2 = kwargs['lambda2'] if 'lambda2' in kwargs else 0\n",
    "    \n",
    "    # train\n",
    "    if closed: \n",
    "        W = solve_closed_form(PHI1,Y1,**kwargs)\n",
    "    else:\n",
    "        W = solve_gradient_descent(PHI1,Y1,**kwargs)\n",
    "        Yhat1 = PHI1.dot(W)\n",
    "        R21 = r_squared(Y1,Yhat1)\n",
    "    \n",
    "    # validate\n",
    "    Yhat2 = PHI2.dot(W)\n",
    "    R22 = r_squared(Y2,Yhat2)\n",
    "    \n",
    "    return R22\n",
    "        \n",
    "#     return dict(training=R21, validation=R22, lambda1=lambda1, lambda2=lambda2, eta=eta, epochs=epochs)                              "
   ]
  },
  {
   "cell_type": "markdown",
   "metadata": {},
   "source": [
    "# Get Data"
   ]
  },
  {
   "cell_type": "code",
   "execution_count": 3,
   "metadata": {},
   "outputs": [],
   "source": [
    "# import data using ID column as index\n",
    "data = pd.read_csv('train.csv', index_col=\"ID\")"
   ]
  },
  {
   "cell_type": "code",
   "execution_count": 4,
   "metadata": {},
   "outputs": [],
   "source": [
    "# get number of observations and features (we are going to take out the target and add a ones column, so P will be the dimention of PHI)\n",
    "N,P = data.shape"
   ]
  },
  {
   "cell_type": "code",
   "execution_count": 5,
   "metadata": {},
   "outputs": [],
   "source": [
    "# pull out the target from the data\n",
    "target = \"medv\"\n",
    "Y = data[target].values\n",
    "data.drop(columns=[target], inplace=True)"
   ]
  },
  {
   "cell_type": "code",
   "execution_count": 6,
   "metadata": {},
   "outputs": [],
   "source": [
    "# make an object array of strings containing all the feature names for the PHI matrix\n",
    "feature_names = np.empty(data.shape[1]+1, dtype='O')\n",
    "feature_names[0] = \"bias\"\n",
    "feature_names[1:] = data.keys()"
   ]
  },
  {
   "cell_type": "markdown",
   "metadata": {},
   "source": [
    "# Data/Design Matrix"
   ]
  },
  {
   "cell_type": "code",
   "execution_count": 7,
   "metadata": {},
   "outputs": [],
   "source": [
    "# make PHI matrix\n",
    "PHI = np.column_stack( (np.ones((N,1)),data.values) )"
   ]
  },
  {
   "cell_type": "markdown",
   "metadata": {},
   "source": [
    "# Setup for Train - Validate - Test"
   ]
  },
  {
   "cell_type": "code",
   "execution_count": 8,
   "metadata": {},
   "outputs": [],
   "source": [
    "# get dictionaries to hold results for training - validation - and testing\n",
    "Yhat = {}\n",
    "R2 = {}"
   ]
  },
  {
   "cell_type": "code",
   "execution_count": 9,
   "metadata": {},
   "outputs": [],
   "source": [
    "# get mask to shuffle for train-validate-test\n",
    "mask = np.arange(PHI.shape[0])\n",
    "np.random.shuffle(mask)\n",
    "PHI0,Y0 = PHI[mask],Y[mask]\n",
    "\n",
    "# get number of observations for each set\n",
    "N1 = int(N*.60)\n",
    "N2 = int(N*.20)\n",
    "N3 = N - N1 - N2\n",
    "\n",
    "# split randomized observations into training (1), validation (2), and testing (3)\n",
    "PHI1 = PHI[:N1]\n",
    "PHI2 = PHI[N1:N1+N2]\n",
    "PHI3 = PHI[N1+N2:]\n",
    "Y1 = Y[:N1]\n",
    "Y2 = Y[N1:N1+N2]\n",
    "Y3 = Y[N1+N2:]"
   ]
  },
  {
   "cell_type": "markdown",
   "metadata": {},
   "source": [
    "# Train - Validate"
   ]
  },
  {
   "cell_type": "code",
   "execution_count": 19,
   "metadata": {},
   "outputs": [
    {
     "name": "stderr",
     "output_type": "stream",
     "text": [
      "/home/jacob/.local/lib/python3.5/site-packages/ipykernel_launcher.py:43: RuntimeWarning: overflow encountered in square\n",
      "/home/jacob/.local/lib/python3.5/site-packages/numpy/core/fromnumeric.py:86: RuntimeWarning: overflow encountered in reduce\n",
      "  return ufunc.reduce(obj, axis, dtype, out, **passkwargs)\n",
      "/home/jacob/.local/lib/python3.5/site-packages/ipykernel_launcher.py:43: RuntimeWarning: invalid value encountered in multiply\n",
      "/home/jacob/.local/lib/python3.5/site-packages/ipykernel_launcher.py:44: RuntimeWarning: invalid value encountered in multiply\n",
      "/home/jacob/.local/lib/python3.5/site-packages/ipykernel_launcher.py:43: RuntimeWarning: overflow encountered in multiply\n",
      "/home/jacob/.local/lib/python3.5/site-packages/ipykernel_launcher.py:44: RuntimeWarning: invalid value encountered in subtract\n"
     ]
    }
   ],
   "source": [
    "Lambda = np.arange(0,1000,100)\n",
    "maxR2 = 0\n",
    "bestl1 = 0\n",
    "bestl2 = 0\n",
    "    \n",
    "for l1 in Lambda:\n",
    "    for l2 in Lambda:\n",
    "        R22 = train_validate(PHI1,Y1,PHI2,Y2, lambda1=l1, lambda2=l2)\n",
    "        if R22 > maxR2:\n",
    "            print(l1,l2)\n",
    "            maxR2 = R22\n",
    "            bestl1 = l1\n",
    "            bestl2 = l2"
   ]
  },
  {
   "cell_type": "code",
   "execution_count": null,
   "metadata": {},
   "outputs": [],
   "source": []
  },
  {
   "cell_type": "code",
   "execution_count": null,
   "metadata": {},
   "outputs": [],
   "source": []
  },
  {
   "cell_type": "code",
   "execution_count": null,
   "metadata": {},
   "outputs": [],
   "source": []
  },
  {
   "cell_type": "code",
   "execution_count": null,
   "metadata": {},
   "outputs": [],
   "source": []
  },
  {
   "cell_type": "code",
   "execution_count": null,
   "metadata": {},
   "outputs": [],
   "source": []
  }
 ],
 "metadata": {
  "kernelspec": {
   "display_name": "Python 3",
   "language": "python",
   "name": "python3"
  },
  "language_info": {
   "codemirror_mode": {
    "name": "ipython",
    "version": 3
   },
   "file_extension": ".py",
   "mimetype": "text/x-python",
   "name": "python",
   "nbconvert_exporter": "python",
   "pygments_lexer": "ipython3",
   "version": "3.5.2"
  }
 },
 "nbformat": 4,
 "nbformat_minor": 2
}
